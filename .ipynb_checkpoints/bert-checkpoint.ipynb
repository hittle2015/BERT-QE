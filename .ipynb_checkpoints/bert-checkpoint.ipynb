{
 "cells": [
  {
   "cell_type": "code",
   "execution_count": 1,
   "metadata": {},
   "outputs": [],
   "source": [
    "import pandas as pd\n",
    "from sklearn.preprocessing import LabelEncoder\n",
    "from sklearn.model_selection import train_test_split\n",
    "from pandas import DataFrame\n",
    "from sklearn.metrics import precision_recall_fscore_support\n"
   ]
  },
  {
   "cell_type": "code",
   "execution_count": 2,
   "metadata": {},
   "outputs": [
    {
     "name": "stderr",
     "output_type": "stream",
     "text": [
      "b'Skipping line 2147: expected 4 fields, saw 5\\nSkipping line 14310: expected 4 fields, saw 5\\nSkipping line 14410: expected 4 fields, saw 5\\n'\n"
     ]
    }
   ],
   "source": [
    "le = LabelEncoder()\n",
    " \n",
    "# df = pd.read_csv(\"./data/cwmt_comb.txt\", delimiter='\\t', error_bad_lines=False)"
   ]
  },
  {
   "cell_type": "code",
   "execution_count": 51,
   "metadata": {},
   "outputs": [
    {
     "data": {
      "text/plain": [
       "14749"
      ]
     },
     "execution_count": 51,
     "metadata": {},
     "output_type": "execute_result"
    }
   ],
   "source": [
    "len(df)"
   ]
  },
  {
   "cell_type": "code",
   "execution_count": 59,
   "metadata": {},
   "outputs": [],
   "source": [
    "## using this processor to preprocess the data for chinese word segmented data\n",
    "# with open('./data/cwmt_comb.txt') as infile:\n",
    "#     seg_id=[]\n",
    "#     src_tgt_txt=[]\n",
    "#     label=[]\n",
    "#     for idx, ln in enumerate(infile):\n",
    "#         if ln:\n",
    "#             try:\n",
    "#                 src, tgt, cls = ln.strip().split('\\t')[1], ln.strip().split('\\t')[2], ln.strip().split('\\t')[3]\n",
    "#                 src_tgt=' '.join((src.split() +[c for c in ''.join(tgt.split())]))\n",
    "#                 seg_id.append(\"cwmt_\"+str(idx))\n",
    "#                 src_tgt_txt.append(src_tgt)\n",
    "#                 label.append(cls)\n",
    "#             except IndexError as e:\n",
    "#                 print(idx, e)\n",
    "        "
   ]
  },
  {
   "cell_type": "code",
   "execution_count": 5,
   "metadata": {},
   "outputs": [],
   "source": [
    "\n",
    "# using this bit for character segmented chinese and two sentences side by side \n",
    "\"\"\"\n",
    "[CLS]to add to his woes , he only has one day to ea... [SEP] \\\n",
    "更 糟 糕 的 是 ， 他 只 有 一 天 的 时 间 来 争 取 菲 奥 娜 的 真[SEP]\n",
    "\"\"\"\n",
    "with open('./data/cwmt_comb.txt') as infile:\n",
    "    seg_id=[]\n",
    "    src_txt=[]\n",
    "    tgt_txt=[]\n",
    "    label=[]\n",
    "    for idx, ln in enumerate(infile):\n",
    "        if ln:\n",
    "            try:\n",
    "                src, tgt, cls = ln.strip().split('\\t')[1], ln.strip().split('\\t')[2], ln.strip().split('\\t')[3]\n",
    "                src_txt.append(src)\n",
    "                tgt_txt.append(' '.join([c for c in ''.join(tgt.split())]))\n",
    "                seg_id.append(\"cwmt_\"+str(idx))\n",
    "                label.append(cls)\n",
    "            except IndexError as e:\n",
    "                print(idx, e)\n",
    "        "
   ]
  },
  {
   "cell_type": "code",
   "execution_count": 40,
   "metadata": {},
   "outputs": [],
   "source": [
    "\n",
    "# #concatenate the  src and tgt as space-segmented (notices that the bert vocabulary are single characters and masked characters. Thought this might be better)\n",
    "# src_tgt_txts=[]\n",
    "# for src, tgt in zip(df['SRC_Txt'], df['TGT_Txt']):\n",
    "#     src_ws = [w for w in src.split()]\n",
    "#     tgt_chars =[c for c in ''.join(tgt.split())]\n",
    "#     src_tgt =' '.join((src_ws + tgt_chars))\n",
    "#     src_tgt_txts.append(src_tgt)"
   ]
  },
  {
   "cell_type": "code",
   "execution_count": 6,
   "metadata": {},
   "outputs": [
    {
     "data": {
      "text/plain": [
       "'the young man walked up to the old man , reached into his perfect heart , and ripped a piece out . he offered it to the old man .'"
      ]
     },
     "execution_count": 6,
     "metadata": {},
     "output_type": "execute_result"
    }
   ],
   "source": [
    "src_txt[0]"
   ]
  },
  {
   "cell_type": "code",
   "execution_count": 7,
   "metadata": {},
   "outputs": [
    {
     "data": {
      "text/plain": [
       "'年 轻 人 走 向 老 人 ， 伸 出 他 完 美 的 心 灵 并 撕 出 一 块 给 老 年 填 上 。'"
      ]
     },
     "execution_count": 7,
     "metadata": {},
     "output_type": "execute_result"
    }
   ],
   "source": [
    "tgt_txt[0]"
   ]
  },
  {
   "cell_type": "code",
   "execution_count": 8,
   "metadata": {},
   "outputs": [],
   "source": [
    "# Creating train and dev dataframes according to BERT\n",
    "df_bert = pd.DataFrame({'seg_id':seg_id,\n",
    "            'label':le.fit_transform(label),\n",
    "            'alpha':['a']*len(label),\n",
    "            'src_text':src_txt,\n",
    "            'tgt_text':tgt_txt})\n",
    " \n",
    "df_bert_train, df_bert_dev = train_test_split(df_bert, test_size=0.01, random_state=400)"
   ]
  },
  {
   "cell_type": "code",
   "execution_count": 9,
   "metadata": {},
   "outputs": [
    {
     "data": {
      "text/plain": [
       "seg_id                                                 cwmt_1\n",
       "label                                                       1\n",
       "alpha                                                       a\n",
       "src_text    to add to his woes , he only has one day to ea...\n",
       "tgt_text    更 糟 糕 的 是 ， 他 只 有 一 天 的 时 间 来 争 取 菲 奥 娜 的 真 爱 ...\n",
       "Name: 1, dtype: object"
      ]
     },
     "execution_count": 9,
     "metadata": {},
     "output_type": "execute_result"
    }
   ],
   "source": [
    "df_bert.loc[1,:]"
   ]
  },
  {
   "cell_type": "code",
   "execution_count": 66,
   "metadata": {},
   "outputs": [
    {
     "data": {
      "text/plain": [
       "(16955, 4)"
      ]
     },
     "execution_count": 66,
     "metadata": {},
     "output_type": "execute_result"
    }
   ],
   "source": [
    "df_bert_train.shape"
   ]
  },
  {
   "cell_type": "code",
   "execution_count": 81,
   "metadata": {},
   "outputs": [],
   "source": [
    "with open('./data/htqe_test_comb.txt') as infile:\n",
    "    test_seg_id=[]\n",
    "    test_src_tgt_txt=[]\n",
    "    test_label=[]\n",
    "    for idx, ln in enumerate(infile):\n",
    "        if ln:\n",
    "            try:\n",
    "                src, tgt, cls = ln.strip().split('\\t')[1], ln.strip().split('\\t')[2], ln.strip().split('\\t')[3]\n",
    "                src_tgt=' '.join((src.split() +[c for c in ''.join(tgt.split())]))\n",
    "                test_seg_id.append(\"htqe_\"+str(idx))\n",
    "                test_src_tgt_txt.append(src_tgt)\n",
    "                test_label.append(cls)\n",
    "            except IndexError as e:\n",
    "                print(idx, e)\n",
    "        "
   ]
  },
  {
   "cell_type": "code",
   "execution_count": 10,
   "metadata": {},
   "outputs": [],
   "source": [
    "with open('./data/htqe_test_comb.txt') as infile:\n",
    "    test_seg_id=[]\n",
    "    test_src_txt=[]\n",
    "    test_tgt_txt=[]\n",
    "    test_label=[]\n",
    "    for idx, ln in enumerate(infile):\n",
    "        if ln:\n",
    "            try:\n",
    "                src, tgt, cls = ln.strip().split('\\t')[1], ln.strip().split('\\t')[2], ln.strip().split('\\t')[3]\n",
    "                test_seg_id.append(\"htqe_\"+str(idx))\n",
    "                test_src_txt.append(src)\n",
    "                test_tgt_txt.append(' '.join([c for c in ''.join(tgt.split())]))\n",
    "                test_label.append(cls)\n",
    "            except IndexError as e:\n",
    "                print(idx, e)"
   ]
  },
  {
   "cell_type": "code",
   "execution_count": 45,
   "metadata": {},
   "outputs": [],
   "source": [
    "# # Creating test dataframe according to BERT\n",
    "# df_test = pd.read_csv(\"data/htqe_test_comb.txt\", sep='\\t', error_bad_lines=False)\n",
    "# src_tgt_tsts=[]\n",
    "# for src, tgt in zip(df_test['SRC_Txt'], df_test['TGT_Txt']):\n",
    "#     src_ws = [w for w in src.split()]\n",
    "#     tgt_chars =[c for c in ''.join(tgt.split())]\n",
    "#     src_tgt =' '.join((src_ws + tgt_chars))\n",
    "#     src_tgt_tsts.append(src_tgt)"
   ]
  },
  {
   "cell_type": "code",
   "execution_count": 11,
   "metadata": {},
   "outputs": [
    {
     "data": {
      "text/plain": [
       "'\" one cannot deny that insects are a nuisance when their bites become sore , and a threat when they transmit disease , but , viewed dispassionately , even noxious insects are beautiful . \"'"
      ]
     },
     "execution_count": 11,
     "metadata": {},
     "output_type": "execute_result"
    }
   ],
   "source": [
    "test_src_txt[1]"
   ]
  },
  {
   "cell_type": "code",
   "execution_count": 12,
   "metadata": {},
   "outputs": [
    {
     "data": {
      "text/plain": [
       "'没 有 人 可 以 否 认 昆 虫 是 一 个 令 人 讨 厌 的 家 伙 ， 因 为 她 咬 我 们 会 给 我 们 带 来 疼 痛 并 会 传 播 疾 病 。 但 是 ， 客 观 地 说 ， 其 实 有 毒 的 昆 虫 是 美 丽 的 。'"
      ]
     },
     "execution_count": 12,
     "metadata": {},
     "output_type": "execute_result"
    }
   ],
   "source": [
    "test_tgt_txt[1]"
   ]
  },
  {
   "cell_type": "code",
   "execution_count": 22,
   "metadata": {},
   "outputs": [
    {
     "data": {
      "text/plain": [
       "'1'"
      ]
     },
     "execution_count": 22,
     "metadata": {},
     "output_type": "execute_result"
    }
   ],
   "source": [
    "test_label[1]"
   ]
  },
  {
   "cell_type": "code",
   "execution_count": 14,
   "metadata": {},
   "outputs": [],
   "source": [
    "df_bert_test = pd.DataFrame({'seg_id':test_seg_id,\n",
    "                 'src_text':test_src_txt,\n",
    "                  'tgt_text':test_tgt_txt,\n",
    "                            'golden':test_label})\n",
    " "
   ]
  },
  {
   "cell_type": "code",
   "execution_count": 16,
   "metadata": {},
   "outputs": [],
   "source": [
    "# Saving dataframes to .tsv format as required by BERT\n",
    "df_bert_train.to_csv('data2/train.tsv', sep='\\t', index=False, quoting=3, header=False)\n",
    "df_bert_dev.to_csv('data2/dev.tsv', sep='\\t', index=False, quoting=3,header=False)\n",
    "df_bert_test.to_csv('data2/test.tsv', sep='\\t', index=False, quoting=3,header=True)"
   ]
  },
  {
   "cell_type": "code",
   "execution_count": 47,
   "metadata": {},
   "outputs": [],
   "source": [
    "df_results = pd.read_csv(\"bert_output2/test_results.tsv\",sep=\"\\t\",header=None)\n",
    "df_results_csv = pd.DataFrame({'seg_id':df_bert_test['seg_id'],\n",
    "                               'src_text':df_bert_test['src_text'],\n",
    "                               'tgt_text':df_bert_test['tgt_text'],\n",
    "                               'golden':df_bert_test['golden'],\n",
    "                               'predictions':df_results.idxmax(axis=1).apply(int),})\n"
   ]
  },
  {
   "cell_type": "code",
   "execution_count": 48,
   "metadata": {},
   "outputs": [
    {
     "data": {
      "text/html": [
       "<div>\n",
       "<style scoped>\n",
       "    .dataframe tbody tr th:only-of-type {\n",
       "        vertical-align: middle;\n",
       "    }\n",
       "\n",
       "    .dataframe tbody tr th {\n",
       "        vertical-align: top;\n",
       "    }\n",
       "\n",
       "    .dataframe thead th {\n",
       "        text-align: right;\n",
       "    }\n",
       "</style>\n",
       "<table border=\"1\" class=\"dataframe\">\n",
       "  <thead>\n",
       "    <tr style=\"text-align: right;\">\n",
       "      <th></th>\n",
       "      <th>seg_id</th>\n",
       "      <th>src_text</th>\n",
       "      <th>tgt_text</th>\n",
       "      <th>golden</th>\n",
       "      <th>predictions</th>\n",
       "    </tr>\n",
       "  </thead>\n",
       "  <tbody>\n",
       "    <tr>\n",
       "      <th>0</th>\n",
       "      <td>htqe_0</td>\n",
       "      <td>\" hostility and fear are universally the produ...</td>\n",
       "      <td>敌 意 和 恐 惧 常 常 被 认 为 是 无 知 的 产 物 ， 我 们 对 昆 虫 的 ...</td>\n",
       "      <td>1</td>\n",
       "      <td>0</td>\n",
       "    </tr>\n",
       "    <tr>\n",
       "      <th>1</th>\n",
       "      <td>htqe_1</td>\n",
       "      <td>\" one cannot deny that insects are a nuisance ...</td>\n",
       "      <td>没 有 人 可 以 否 认 昆 虫 是 一 个 令 人 讨 厌 的 家 伙 ， 因 为 她 ...</td>\n",
       "      <td>1</td>\n",
       "      <td>0</td>\n",
       "    </tr>\n",
       "    <tr>\n",
       "      <th>2</th>\n",
       "      <td>htqe_2</td>\n",
       "      <td>\" from having studied their fossilized remains...</td>\n",
       "      <td>从 对 它 们 遗 留 下 来 的 化 石 的 研 究 来 看 ， 我 们 了 解 到 昆 ...</td>\n",
       "      <td>1</td>\n",
       "      <td>0</td>\n",
       "    </tr>\n",
       "    <tr>\n",
       "      <th>3</th>\n",
       "      <td>htqe_3</td>\n",
       "      <td>today we find them abundantly everywhere we lo...</td>\n",
       "      <td>今 天 我 们 所 见 之 处 都 有 它 们 的 身 影 。</td>\n",
       "      <td>1</td>\n",
       "      <td>0</td>\n",
       "    </tr>\n",
       "    <tr>\n",
       "      <th>4</th>\n",
       "      <td>htqe_4</td>\n",
       "      <td>insects have been discovered on the snow of th...</td>\n",
       "      <td>在 冰 雪 覆 盖 的 极 地 地 区 和 高 山 的 山 峰 也 发 现 了 昆 虫 的 ...</td>\n",
       "      <td>1</td>\n",
       "      <td>0</td>\n",
       "    </tr>\n",
       "    <tr>\n",
       "      <th>5</th>\n",
       "      <td>htqe_5</td>\n",
       "      <td>\" the life of a worker honeybee is even separa...</td>\n",
       "      <td>工 蜂 的 一 生 甚 至 被 分 成 连 续 的 工 作 阶 段 ： 在 最 初 的 三 ...</td>\n",
       "      <td>1</td>\n",
       "      <td>0</td>\n",
       "    </tr>\n",
       "    <tr>\n",
       "      <th>6</th>\n",
       "      <td>htqe_6</td>\n",
       "      <td>\" add to such behavior the fact that some ants...</td>\n",
       "      <td>除 此 之 外 ， 一 些 蚂 蚁 用 碎 树 叶 子 当 作 匙 子 一 样 将 软 食 ...</td>\n",
       "      <td>1</td>\n",
       "      <td>0</td>\n",
       "    </tr>\n",
       "    <tr>\n",
       "      <th>7</th>\n",
       "      <td>htqe_7</td>\n",
       "      <td>only a moment with a hand lens is required to ...</td>\n",
       "      <td>发 现 一 个 崭 新 世 界 的 创 意 和 美 丽 ， 用 一 只 隐 形 的 手 ， ...</td>\n",
       "      <td>0</td>\n",
       "      <td>0</td>\n",
       "    </tr>\n",
       "    <tr>\n",
       "      <th>8</th>\n",
       "      <td>htqe_8</td>\n",
       "      <td>\" hostility and fear are universally the produ...</td>\n",
       "      <td>敌 视 和 恐 惧 通 常 是 愚 昧 的 产 物 ， 对 抗 也 不 例 外 。</td>\n",
       "      <td>1</td>\n",
       "      <td>0</td>\n",
       "    </tr>\n",
       "    <tr>\n",
       "      <th>9</th>\n",
       "      <td>htqe_9</td>\n",
       "      <td>\" one cannot deny that insects are a nuisance ...</td>\n",
       "      <td>当 我 们 被 昆 虫 蛰 痛 和 受 到 昆 虫 带 来 的 疾 病 威 胁 时 ， 我 ...</td>\n",
       "      <td>1</td>\n",
       "      <td>0</td>\n",
       "    </tr>\n",
       "    <tr>\n",
       "      <th>10</th>\n",
       "      <td>htqe_10</td>\n",
       "      <td>\" from having studied their fossilized remains...</td>\n",
       "      <td>从 对 它 们 保 留 下 来 的 化 石 研 究 中 ， 我 们 得 知 昆 虫 已 在 ...</td>\n",
       "      <td>1</td>\n",
       "      <td>0</td>\n",
       "    </tr>\n",
       "    <tr>\n",
       "      <th>11</th>\n",
       "      <td>htqe_11</td>\n",
       "      <td>today we find them abundantly everywhere we lo...</td>\n",
       "      <td>如 今 ， 我 们 发 现 它 们 已 多 到 随 处 可 见 。</td>\n",
       "      <td>1</td>\n",
       "      <td>0</td>\n",
       "    </tr>\n",
       "    <tr>\n",
       "      <th>12</th>\n",
       "      <td>htqe_12</td>\n",
       "      <td>insects have been discovered on the snow of th...</td>\n",
       "      <td>在 极 地 的 雪 中 和 高 高 的 山 顶 上 都 发 现 了 昆 虫 。</td>\n",
       "      <td>1</td>\n",
       "      <td>0</td>\n",
       "    </tr>\n",
       "    <tr>\n",
       "      <th>13</th>\n",
       "      <td>htqe_13</td>\n",
       "      <td>only after this apprenticeship is the graduate...</td>\n",
       "      <td>只 有 在 学 徒 期 满 后 ， 他 们 才 允 许 离 开 蜂 箱 ， 出 去 搜 寻 ...</td>\n",
       "      <td>1</td>\n",
       "      <td>0</td>\n",
       "    </tr>\n",
       "    <tr>\n",
       "      <th>14</th>\n",
       "      <td>htqe_14</td>\n",
       "      <td>it saddens me that people deny themselves the ...</td>\n",
       "      <td>使 我 感 到 悲 哀 的 是 ， 人 们 否 认 从 欣 赏 最 普 通 的 昆 虫 所 ...</td>\n",
       "      <td>1</td>\n",
       "      <td>0</td>\n",
       "    </tr>\n",
       "    <tr>\n",
       "      <th>15</th>\n",
       "      <td>htqe_15</td>\n",
       "      <td>\" hostility and fear are universally the produ...</td>\n",
       "      <td>敌 对 和 恐 惧 普 遍 地 都 是 无 知 的 产 物 ， 我 们 的 对 抗 也 不 ...</td>\n",
       "      <td>1</td>\n",
       "      <td>0</td>\n",
       "    </tr>\n",
       "    <tr>\n",
       "      <th>16</th>\n",
       "      <td>htqe_16</td>\n",
       "      <td>\" one cannot deny that insects are a nuisance ...</td>\n",
       "      <td>不 可 否 认 的 是 当 昆 虫 的 叮 咬 使 人 疼 痛 时 ， 它 们 是 有 害 ...</td>\n",
       "      <td>1</td>\n",
       "      <td>0</td>\n",
       "    </tr>\n",
       "    <tr>\n",
       "      <th>17</th>\n",
       "      <td>htqe_17</td>\n",
       "      <td>\" from having studied their fossilized remains...</td>\n",
       "      <td>通 过 对 遗 留 下 来 的 昆 虫 化 石 的 研 究 ， 我 们 得 知 昆 虫 这 ...</td>\n",
       "      <td>1</td>\n",
       "      <td>0</td>\n",
       "    </tr>\n",
       "    <tr>\n",
       "      <th>18</th>\n",
       "      <td>htqe_18</td>\n",
       "      <td>today we find them abundantly everywhere we lo...</td>\n",
       "      <td>如 今 我 们 发 现 它 们 多 得 随 处 可 见 。</td>\n",
       "      <td>1</td>\n",
       "      <td>0</td>\n",
       "    </tr>\n",
       "    <tr>\n",
       "      <th>19</th>\n",
       "      <td>htqe_19</td>\n",
       "      <td>insects have been discovered on the snow of th...</td>\n",
       "      <td>在 高 山 的 顶 峰 和 极 地 冰 雪 覆 盖 的 地 区 都 已 发 现 昆 虫 的 ...</td>\n",
       "      <td>1</td>\n",
       "      <td>0</td>\n",
       "    </tr>\n",
       "    <tr>\n",
       "      <th>20</th>\n",
       "      <td>htqe_20</td>\n",
       "      <td>\" bees , wasps , ants and termites have intric...</td>\n",
       "      <td>蜜 蜂 ， 黄 蜂 ， 蚂 蚁 和 白 蚁 都 拥 有 极 其 复 杂 的 社 会 体 系 ...</td>\n",
       "      <td>1</td>\n",
       "      <td>0</td>\n",
       "    </tr>\n",
       "    <tr>\n",
       "      <th>21</th>\n",
       "      <td>htqe_21</td>\n",
       "      <td>\" the life of a worker honeybee is even separa...</td>\n",
       "      <td>工 蜂 的 一 生 甚 至 被 划 分 为 几 个 连 续 的 时 期 ： 在 最 初 的 ...</td>\n",
       "      <td>1</td>\n",
       "      <td>0</td>\n",
       "    </tr>\n",
       "    <tr>\n",
       "      <th>22</th>\n",
       "      <td>htqe_22</td>\n",
       "      <td>it saddens me that people deny themselves the ...</td>\n",
       "      <td>让 我 感 到 悲 伤 的 是 ， 人 们 拒 绝 那 种 仅 仅 通 过 欣 赏 那 些 ...</td>\n",
       "      <td>1</td>\n",
       "      <td>0</td>\n",
       "    </tr>\n",
       "    <tr>\n",
       "      <th>23</th>\n",
       "      <td>htqe_23</td>\n",
       "      <td>\" hostility and fear are universally the produ...</td>\n",
       "      <td>普 遍 地 ， 敌 意 和 害 怕 是 无 知 的 产 物 ， 我 们 的 敌 对 也 不 ...</td>\n",
       "      <td>1</td>\n",
       "      <td>0</td>\n",
       "    </tr>\n",
       "    <tr>\n",
       "      <th>24</th>\n",
       "      <td>htqe_24</td>\n",
       "      <td>\" from having studied their fossilized remains...</td>\n",
       "      <td>从 研 究 虫 子 的 化 石 ， 我 们 了 解 到 虫 类 已 在 地 球 上 栖 息 ...</td>\n",
       "      <td>1</td>\n",
       "      <td>0</td>\n",
       "    </tr>\n",
       "    <tr>\n",
       "      <th>25</th>\n",
       "      <td>htqe_25</td>\n",
       "      <td>today we find them abundantly everywhere we lo...</td>\n",
       "      <td>现 在 ， 在 目 光 所 及 之 处 我 们 都 能 看 到 它 们 。</td>\n",
       "      <td>1</td>\n",
       "      <td>0</td>\n",
       "    </tr>\n",
       "    <tr>\n",
       "      <th>26</th>\n",
       "      <td>htqe_26</td>\n",
       "      <td>insects have been discovered on the snow of th...</td>\n",
       "      <td>昆 虫 甚 至 在 被 冰 雪 覆 盖 的 极 点 和 高 山 的 顶 端 都 可 以 找 到 。</td>\n",
       "      <td>1</td>\n",
       "      <td>0</td>\n",
       "    </tr>\n",
       "    <tr>\n",
       "      <th>27</th>\n",
       "      <td>htqe_27</td>\n",
       "      <td>\" bees , wasps , ants and termites have intric...</td>\n",
       "      <td>蜜 蜂 ， 黄 蜂 ， 蚂 蚁 和 白 蚁 都 有 其 复 杂 的 群 居 方 式 / 社 ...</td>\n",
       "      <td>1</td>\n",
       "      <td>0</td>\n",
       "    </tr>\n",
       "    <tr>\n",
       "      <th>28</th>\n",
       "      <td>htqe_28</td>\n",
       "      <td>only after this apprenticeship is the graduate...</td>\n",
       "      <td>在 这 段 学 徒 期 之 后 ， 就 可 以 飞 离 蜂 巢 采 花 蜜 和 花 粉 了 。</td>\n",
       "      <td>1</td>\n",
       "      <td>0</td>\n",
       "    </tr>\n",
       "    <tr>\n",
       "      <th>29</th>\n",
       "      <td>htqe_29</td>\n",
       "      <td>it saddens me that people deny themselves the ...</td>\n",
       "      <td>使 我 感 到 悲 哀 的 是 ， 人 们 感 觉 不 到 从 分 工 中 得 来 的 喜 ...</td>\n",
       "      <td>0</td>\n",
       "      <td>0</td>\n",
       "    </tr>\n",
       "    <tr>\n",
       "      <th>...</th>\n",
       "      <td>...</td>\n",
       "      <td>...</td>\n",
       "      <td>...</td>\n",
       "      <td>...</td>\n",
       "      <td>...</td>\n",
       "    </tr>\n",
       "    <tr>\n",
       "      <th>2769</th>\n",
       "      <td>htqe_2769</td>\n",
       "      <td>\" people already kill pigs both for food and f...</td>\n",
       "      <td>人 们 既 然 可 以 杀 猪 用 于 食 品 和 体 育 。 那 么 取 其 性 命 用 ...</td>\n",
       "      <td>1</td>\n",
       "      <td>0</td>\n",
       "    </tr>\n",
       "    <tr>\n",
       "      <th>2770</th>\n",
       "      <td>htqe_2770</td>\n",
       "      <td>\" transplant surgeons work miracles. they take...</td>\n",
       "      <td>移 植 器 官 的 外 科 医 生 真 的 很 神 奇 。 他 们 从 一 个 人 的 体 ...</td>\n",
       "      <td>1</td>\n",
       "      <td>0</td>\n",
       "    </tr>\n",
       "    <tr>\n",
       "      <th>2771</th>\n",
       "      <td>htqe_2771</td>\n",
       "      <td>\" sadly , every year thousands of other people...</td>\n",
       "      <td>令 人 悲 伤 的 是 ， 每 年 都 有 成 千 上 万 的 人 不 那 么 幸 运 ， ...</td>\n",
       "      <td>1</td>\n",
       "      <td>0</td>\n",
       "    </tr>\n",
       "    <tr>\n",
       "      <th>2772</th>\n",
       "      <td>htqe_2772</td>\n",
       "      <td>the terrible constraint on organ transplantati...</td>\n",
       "      <td>可 怕 的 是 器 官 的 移 植 是 有 一 定 条 件 与 束 缚 的 ， 只 有 健 ...</td>\n",
       "      <td>1</td>\n",
       "      <td>0</td>\n",
       "    </tr>\n",
       "    <tr>\n",
       "      <th>2773</th>\n",
       "      <td>htqe_2773</td>\n",
       "      <td>\" such donors are few. the waiting lists are l...</td>\n",
       "      <td>这 样 的 捐 赠 者 毕 竟 是 少 数 。 等 待 移 植 的 人 越 来 越 多 ， ...</td>\n",
       "      <td>1</td>\n",
       "      <td>0</td>\n",
       "    </tr>\n",
       "    <tr>\n",
       "      <th>2774</th>\n",
       "      <td>htqe_2774</td>\n",
       "      <td>so far attempts to make artificial organs have...</td>\n",
       "      <td>到 目 前 为 止 制 造 人 造 器 官 的 尝 试 不 尽 人 意 ， 自 然 的 一 ...</td>\n",
       "      <td>1</td>\n",
       "      <td>0</td>\n",
       "    </tr>\n",
       "    <tr>\n",
       "      <th>2775</th>\n",
       "      <td>htqe_2775</td>\n",
       "      <td>doctors in india have just announced that they...</td>\n",
       "      <td>印 度 的 医 生 们 最 近 公 布 ， 他 们 已 经 成 功 地 移 植 一 颗 猪 ...</td>\n",
       "      <td>1</td>\n",
       "      <td>0</td>\n",
       "    </tr>\n",
       "    <tr>\n",
       "      <th>2776</th>\n",
       "      <td>htqe_2776</td>\n",
       "      <td>pressure to increase the number of such xenotr...</td>\n",
       "      <td>异 种 器 官 移 植 数 量 逐 涨 增 多 ， 面 临 的 压 力 似 乎 也 在 不 ...</td>\n",
       "      <td>1</td>\n",
       "      <td>0</td>\n",
       "    </tr>\n",
       "    <tr>\n",
       "      <th>2777</th>\n",
       "      <td>htqe_2777</td>\n",
       "      <td>\" in europe and america , herds of pigs are be...</td>\n",
       "      <td>在 欧 洲 和 美 国 ， 成 群 的 猪 被 专 门 饲 养 ， 为 了 器 官 的 捐 赠 ，</td>\n",
       "      <td>1</td>\n",
       "      <td>0</td>\n",
       "    </tr>\n",
       "    <tr>\n",
       "      <th>2778</th>\n",
       "      <td>htqe_2778</td>\n",
       "      <td>during 1996 at least two big reports on the su...</td>\n",
       "      <td>在 1 9 9 6 年 至 少 有 两 个 关 于 这 个 主 题 的 大 型 报 告 被 ...</td>\n",
       "      <td>1</td>\n",
       "      <td>0</td>\n",
       "    </tr>\n",
       "    <tr>\n",
       "      <th>2779</th>\n",
       "      <td>htqe_2779</td>\n",
       "      <td>america 's food and drug administration has al...</td>\n",
       "      <td>美 国 的 食 品 及 药 物 管 理 局 已 经 发 表 了 异 种 器 官 移 植 的 ...</td>\n",
       "      <td>1</td>\n",
       "      <td>0</td>\n",
       "    </tr>\n",
       "    <tr>\n",
       "      <th>2780</th>\n",
       "      <td>htqe_2780</td>\n",
       "      <td>\" transplant surgeons work miracles. they take...</td>\n",
       "      <td>移 植 外 科 医 生 创 造 奇 迹 。 他 们 从 一 个 人 的 体 内 取 出 器 ...</td>\n",
       "      <td>1</td>\n",
       "      <td>0</td>\n",
       "    </tr>\n",
       "    <tr>\n",
       "      <th>2781</th>\n",
       "      <td>htqe_2781</td>\n",
       "      <td>\" sadly , every year thousands of other people...</td>\n",
       "      <td>令 人 悲 伤 的 是 ， 每 年 有 其 他 成 千 上 万 的 人 没 有 那 么 幸 ...</td>\n",
       "      <td>1</td>\n",
       "      <td>0</td>\n",
       "    </tr>\n",
       "    <tr>\n",
       "      <th>2782</th>\n",
       "      <td>htqe_2782</td>\n",
       "      <td>the terrible constraint on organ transplantati...</td>\n",
       "      <td>在 器 官 移 植 方 面 糟 糕 的 是 ， 每 一 个 的 生 命 依 赖 于 某 一 ...</td>\n",
       "      <td>1</td>\n",
       "      <td>0</td>\n",
       "    </tr>\n",
       "    <tr>\n",
       "      <th>2783</th>\n",
       "      <td>htqe_2783</td>\n",
       "      <td>\" such donors are few. the waiting lists are l...</td>\n",
       "      <td>那 样 的 赠 予 人 很 少 。 等 候 名 单 很 长 ， 而 且 变 得 越 来 越 长 。</td>\n",
       "      <td>1</td>\n",
       "      <td>0</td>\n",
       "    </tr>\n",
       "    <tr>\n",
       "      <th>2784</th>\n",
       "      <td>htqe_2784</td>\n",
       "      <td>freedom from this constraint is the dream of e...</td>\n",
       "      <td>从 这 个 束 缚 中 摆 脱 出 来 是 每 个 移 植 外 科 医 生 的 梦 想 。</td>\n",
       "      <td>1</td>\n",
       "      <td>0</td>\n",
       "    </tr>\n",
       "    <tr>\n",
       "      <th>2785</th>\n",
       "      <td>htqe_2785</td>\n",
       "      <td>so far attempts to make artificial organs have...</td>\n",
       "      <td>至 今 制 造 人 造 器 官 的 尝 试 还 是 让 人 感 到 沮 丧 的 ， 自 然 ...</td>\n",
       "      <td>1</td>\n",
       "      <td>0</td>\n",
       "    </tr>\n",
       "    <tr>\n",
       "      <th>2786</th>\n",
       "      <td>htqe_2786</td>\n",
       "      <td>doctors in india have just announced that they...</td>\n",
       "      <td>印 度 的 医 生 刚 刚 宣 称 他 们 已 经 成 功 地 将 一 枚 猪 心 植 入 ...</td>\n",
       "      <td>1</td>\n",
       "      <td>0</td>\n",
       "    </tr>\n",
       "    <tr>\n",
       "      <th>2787</th>\n",
       "      <td>htqe_2787</td>\n",
       "      <td>pressure to increase the number of such xenotr...</td>\n",
       "      <td>增 加 异 种 器 官 移 植 的 数 量 的 压 力 似 乎 变 得 越 来 越 大 。</td>\n",
       "      <td>1</td>\n",
       "      <td>0</td>\n",
       "    </tr>\n",
       "    <tr>\n",
       "      <th>2788</th>\n",
       "      <td>htqe_2788</td>\n",
       "      <td>\" in europe and america , herds of pigs are be...</td>\n",
       "      <td>在 欧 美 ， 猪 被 特 殊 化 繁 殖 养 育 并 作 为 器 官 捐 赠 做 遗 传 ...</td>\n",
       "      <td>1</td>\n",
       "      <td>0</td>\n",
       "    </tr>\n",
       "    <tr>\n",
       "      <th>2789</th>\n",
       "      <td>htqe_2789</td>\n",
       "      <td>during 1996 at least two big reports on the su...</td>\n",
       "      <td>1 9 9 6 年 其 间 ， 至 少 有 两 大 在 这 个 课 题 上 的 报 告 被 ...</td>\n",
       "      <td>1</td>\n",
       "      <td>0</td>\n",
       "    </tr>\n",
       "    <tr>\n",
       "      <th>2790</th>\n",
       "      <td>htqe_2790</td>\n",
       "      <td>they agreed that xenotransplants were permissi...</td>\n",
       "      <td>他 们 同 意 异 种 器 官 移 植 在 道 德 标 准 上 是 被 允 许 的 ， 而 ...</td>\n",
       "      <td>1</td>\n",
       "      <td>0</td>\n",
       "    </tr>\n",
       "    <tr>\n",
       "      <th>2791</th>\n",
       "      <td>htqe_2791</td>\n",
       "      <td>america 's food and drug administration has al...</td>\n",
       "      <td>美 国 食 品 药 物 局 已 经 推 出 了 关 于 异 种 器 官 移 植 的 起 草 ...</td>\n",
       "      <td>1</td>\n",
       "      <td>0</td>\n",
       "    </tr>\n",
       "    <tr>\n",
       "      <th>2792</th>\n",
       "      <td>htqe_2792</td>\n",
       "      <td>\" people already kill pigs both for food and f...</td>\n",
       "      <td>人 们 杀 猪 为 了 食 物 和 运 动 ， 而 杀 它 们 为 了 救 人 似 乎 无 ...</td>\n",
       "      <td>1</td>\n",
       "      <td>0</td>\n",
       "    </tr>\n",
       "    <tr>\n",
       "      <th>2793</th>\n",
       "      <td>htqe_2793</td>\n",
       "      <td>\" transplant surgeons work miracles. they take...</td>\n",
       "      <td>移 植 手 术 真 的 很 神 奇 。 移 植 就 是 把 一 个 人 的 器 官 移 植 ...</td>\n",
       "      <td>1</td>\n",
       "      <td>0</td>\n",
       "    </tr>\n",
       "    <tr>\n",
       "      <th>2794</th>\n",
       "      <td>htqe_2794</td>\n",
       "      <td>\" sadly , every year thousands of other people...</td>\n",
       "      <td>不 幸 的 是 ， 每 年 都 上 千 的 病 人 没 有 这 么 幸 运 ， 还 没 有 ...</td>\n",
       "      <td>1</td>\n",
       "      <td>0</td>\n",
       "    </tr>\n",
       "    <tr>\n",
       "      <th>2795</th>\n",
       "      <td>htqe_2795</td>\n",
       "      <td>the terrible constraint on organ transplantati...</td>\n",
       "      <td>而 且 器 官 移 植 的 一 个 大 的 障 碍 就 是 ： 每 一 个 生 命 的 延 ...</td>\n",
       "      <td>1</td>\n",
       "      <td>0</td>\n",
       "    </tr>\n",
       "    <tr>\n",
       "      <th>2796</th>\n",
       "      <td>htqe_2796</td>\n",
       "      <td>\" such donors are few. the waiting lists are l...</td>\n",
       "      <td>这 样 的 器 官 捐 赠 者 很 少 ， 而 等 待 移 植 的 人 却 很 多 ， 而 ...</td>\n",
       "      <td>1</td>\n",
       "      <td>0</td>\n",
       "    </tr>\n",
       "    <tr>\n",
       "      <th>2797</th>\n",
       "      <td>htqe_2797</td>\n",
       "      <td>freedom from this constraint is the dream of e...</td>\n",
       "      <td>摆 脱 这 种 束 缚 是 每 一 个 移 植 手 术 所 梦 想 的 。</td>\n",
       "      <td>1</td>\n",
       "      <td>0</td>\n",
       "    </tr>\n",
       "    <tr>\n",
       "      <th>2798</th>\n",
       "      <td>htqe_2798</td>\n",
       "      <td>so far attempts to make artificial organs have...</td>\n",
       "      <td>至 今 ， 制 造 人 工 器 官 的 试 图 失 败 了 ， 自 然 是 很 难 改 变 ...</td>\n",
       "      <td>0</td>\n",
       "      <td>0</td>\n",
       "    </tr>\n",
       "  </tbody>\n",
       "</table>\n",
       "<p>2799 rows × 5 columns</p>\n",
       "</div>"
      ],
      "text/plain": [
       "         seg_id                                           src_text  \\\n",
       "0        htqe_0  \" hostility and fear are universally the produ...   \n",
       "1        htqe_1  \" one cannot deny that insects are a nuisance ...   \n",
       "2        htqe_2  \" from having studied their fossilized remains...   \n",
       "3        htqe_3  today we find them abundantly everywhere we lo...   \n",
       "4        htqe_4  insects have been discovered on the snow of th...   \n",
       "5        htqe_5  \" the life of a worker honeybee is even separa...   \n",
       "6        htqe_6  \" add to such behavior the fact that some ants...   \n",
       "7        htqe_7  only a moment with a hand lens is required to ...   \n",
       "8        htqe_8  \" hostility and fear are universally the produ...   \n",
       "9        htqe_9  \" one cannot deny that insects are a nuisance ...   \n",
       "10      htqe_10  \" from having studied their fossilized remains...   \n",
       "11      htqe_11  today we find them abundantly everywhere we lo...   \n",
       "12      htqe_12  insects have been discovered on the snow of th...   \n",
       "13      htqe_13  only after this apprenticeship is the graduate...   \n",
       "14      htqe_14  it saddens me that people deny themselves the ...   \n",
       "15      htqe_15  \" hostility and fear are universally the produ...   \n",
       "16      htqe_16  \" one cannot deny that insects are a nuisance ...   \n",
       "17      htqe_17  \" from having studied their fossilized remains...   \n",
       "18      htqe_18  today we find them abundantly everywhere we lo...   \n",
       "19      htqe_19  insects have been discovered on the snow of th...   \n",
       "20      htqe_20  \" bees , wasps , ants and termites have intric...   \n",
       "21      htqe_21  \" the life of a worker honeybee is even separa...   \n",
       "22      htqe_22  it saddens me that people deny themselves the ...   \n",
       "23      htqe_23  \" hostility and fear are universally the produ...   \n",
       "24      htqe_24  \" from having studied their fossilized remains...   \n",
       "25      htqe_25  today we find them abundantly everywhere we lo...   \n",
       "26      htqe_26  insects have been discovered on the snow of th...   \n",
       "27      htqe_27  \" bees , wasps , ants and termites have intric...   \n",
       "28      htqe_28  only after this apprenticeship is the graduate...   \n",
       "29      htqe_29  it saddens me that people deny themselves the ...   \n",
       "...         ...                                                ...   \n",
       "2769  htqe_2769  \" people already kill pigs both for food and f...   \n",
       "2770  htqe_2770  \" transplant surgeons work miracles. they take...   \n",
       "2771  htqe_2771  \" sadly , every year thousands of other people...   \n",
       "2772  htqe_2772  the terrible constraint on organ transplantati...   \n",
       "2773  htqe_2773  \" such donors are few. the waiting lists are l...   \n",
       "2774  htqe_2774  so far attempts to make artificial organs have...   \n",
       "2775  htqe_2775  doctors in india have just announced that they...   \n",
       "2776  htqe_2776  pressure to increase the number of such xenotr...   \n",
       "2777  htqe_2777  \" in europe and america , herds of pigs are be...   \n",
       "2778  htqe_2778  during 1996 at least two big reports on the su...   \n",
       "2779  htqe_2779  america 's food and drug administration has al...   \n",
       "2780  htqe_2780  \" transplant surgeons work miracles. they take...   \n",
       "2781  htqe_2781  \" sadly , every year thousands of other people...   \n",
       "2782  htqe_2782  the terrible constraint on organ transplantati...   \n",
       "2783  htqe_2783  \" such donors are few. the waiting lists are l...   \n",
       "2784  htqe_2784  freedom from this constraint is the dream of e...   \n",
       "2785  htqe_2785  so far attempts to make artificial organs have...   \n",
       "2786  htqe_2786  doctors in india have just announced that they...   \n",
       "2787  htqe_2787  pressure to increase the number of such xenotr...   \n",
       "2788  htqe_2788  \" in europe and america , herds of pigs are be...   \n",
       "2789  htqe_2789  during 1996 at least two big reports on the su...   \n",
       "2790  htqe_2790  they agreed that xenotransplants were permissi...   \n",
       "2791  htqe_2791  america 's food and drug administration has al...   \n",
       "2792  htqe_2792  \" people already kill pigs both for food and f...   \n",
       "2793  htqe_2793  \" transplant surgeons work miracles. they take...   \n",
       "2794  htqe_2794  \" sadly , every year thousands of other people...   \n",
       "2795  htqe_2795  the terrible constraint on organ transplantati...   \n",
       "2796  htqe_2796  \" such donors are few. the waiting lists are l...   \n",
       "2797  htqe_2797  freedom from this constraint is the dream of e...   \n",
       "2798  htqe_2798  so far attempts to make artificial organs have...   \n",
       "\n",
       "                                               tgt_text golden  predictions  \n",
       "0     敌 意 和 恐 惧 常 常 被 认 为 是 无 知 的 产 物 ， 我 们 对 昆 虫 的 ...      1            0  \n",
       "1     没 有 人 可 以 否 认 昆 虫 是 一 个 令 人 讨 厌 的 家 伙 ， 因 为 她 ...      1            0  \n",
       "2     从 对 它 们 遗 留 下 来 的 化 石 的 研 究 来 看 ， 我 们 了 解 到 昆 ...      1            0  \n",
       "3                       今 天 我 们 所 见 之 处 都 有 它 们 的 身 影 。      1            0  \n",
       "4     在 冰 雪 覆 盖 的 极 地 地 区 和 高 山 的 山 峰 也 发 现 了 昆 虫 的 ...      1            0  \n",
       "5     工 蜂 的 一 生 甚 至 被 分 成 连 续 的 工 作 阶 段 ： 在 最 初 的 三 ...      1            0  \n",
       "6     除 此 之 外 ， 一 些 蚂 蚁 用 碎 树 叶 子 当 作 匙 子 一 样 将 软 食 ...      1            0  \n",
       "7     发 现 一 个 崭 新 世 界 的 创 意 和 美 丽 ， 用 一 只 隐 形 的 手 ， ...      0            0  \n",
       "8             敌 视 和 恐 惧 通 常 是 愚 昧 的 产 物 ， 对 抗 也 不 例 外 。      1            0  \n",
       "9     当 我 们 被 昆 虫 蛰 痛 和 受 到 昆 虫 带 来 的 疾 病 威 胁 时 ， 我 ...      1            0  \n",
       "10    从 对 它 们 保 留 下 来 的 化 石 研 究 中 ， 我 们 得 知 昆 虫 已 在 ...      1            0  \n",
       "11                    如 今 ， 我 们 发 现 它 们 已 多 到 随 处 可 见 。      1            0  \n",
       "12              在 极 地 的 雪 中 和 高 高 的 山 顶 上 都 发 现 了 昆 虫 。      1            0  \n",
       "13    只 有 在 学 徒 期 满 后 ， 他 们 才 允 许 离 开 蜂 箱 ， 出 去 搜 寻 ...      1            0  \n",
       "14    使 我 感 到 悲 哀 的 是 ， 人 们 否 认 从 欣 赏 最 普 通 的 昆 虫 所 ...      1            0  \n",
       "15    敌 对 和 恐 惧 普 遍 地 都 是 无 知 的 产 物 ， 我 们 的 对 抗 也 不 ...      1            0  \n",
       "16    不 可 否 认 的 是 当 昆 虫 的 叮 咬 使 人 疼 痛 时 ， 它 们 是 有 害 ...      1            0  \n",
       "17    通 过 对 遗 留 下 来 的 昆 虫 化 石 的 研 究 ， 我 们 得 知 昆 虫 这 ...      1            0  \n",
       "18                        如 今 我 们 发 现 它 们 多 得 随 处 可 见 。      1            0  \n",
       "19    在 高 山 的 顶 峰 和 极 地 冰 雪 覆 盖 的 地 区 都 已 发 现 昆 虫 的 ...      1            0  \n",
       "20    蜜 蜂 ， 黄 蜂 ， 蚂 蚁 和 白 蚁 都 拥 有 极 其 复 杂 的 社 会 体 系 ...      1            0  \n",
       "21    工 蜂 的 一 生 甚 至 被 划 分 为 几 个 连 续 的 时 期 ： 在 最 初 的 ...      1            0  \n",
       "22    让 我 感 到 悲 伤 的 是 ， 人 们 拒 绝 那 种 仅 仅 通 过 欣 赏 那 些 ...      1            0  \n",
       "23    普 遍 地 ， 敌 意 和 害 怕 是 无 知 的 产 物 ， 我 们 的 敌 对 也 不 ...      1            0  \n",
       "24    从 研 究 虫 子 的 化 石 ， 我 们 了 解 到 虫 类 已 在 地 球 上 栖 息 ...      1            0  \n",
       "25                现 在 ， 在 目 光 所 及 之 处 我 们 都 能 看 到 它 们 。      1            0  \n",
       "26    昆 虫 甚 至 在 被 冰 雪 覆 盖 的 极 点 和 高 山 的 顶 端 都 可 以 找 到 。      1            0  \n",
       "27    蜜 蜂 ， 黄 蜂 ， 蚂 蚁 和 白 蚁 都 有 其 复 杂 的 群 居 方 式 / 社 ...      1            0  \n",
       "28      在 这 段 学 徒 期 之 后 ， 就 可 以 飞 离 蜂 巢 采 花 蜜 和 花 粉 了 。      1            0  \n",
       "29    使 我 感 到 悲 哀 的 是 ， 人 们 感 觉 不 到 从 分 工 中 得 来 的 喜 ...      0            0  \n",
       "...                                                 ...    ...          ...  \n",
       "2769  人 们 既 然 可 以 杀 猪 用 于 食 品 和 体 育 。 那 么 取 其 性 命 用 ...      1            0  \n",
       "2770  移 植 器 官 的 外 科 医 生 真 的 很 神 奇 。 他 们 从 一 个 人 的 体 ...      1            0  \n",
       "2771  令 人 悲 伤 的 是 ， 每 年 都 有 成 千 上 万 的 人 不 那 么 幸 运 ， ...      1            0  \n",
       "2772  可 怕 的 是 器 官 的 移 植 是 有 一 定 条 件 与 束 缚 的 ， 只 有 健 ...      1            0  \n",
       "2773  这 样 的 捐 赠 者 毕 竟 是 少 数 。 等 待 移 植 的 人 越 来 越 多 ， ...      1            0  \n",
       "2774  到 目 前 为 止 制 造 人 造 器 官 的 尝 试 不 尽 人 意 ， 自 然 的 一 ...      1            0  \n",
       "2775  印 度 的 医 生 们 最 近 公 布 ， 他 们 已 经 成 功 地 移 植 一 颗 猪 ...      1            0  \n",
       "2776  异 种 器 官 移 植 数 量 逐 涨 增 多 ， 面 临 的 压 力 似 乎 也 在 不 ...      1            0  \n",
       "2777  在 欧 洲 和 美 国 ， 成 群 的 猪 被 专 门 饲 养 ， 为 了 器 官 的 捐 赠 ，      1            0  \n",
       "2778  在 1 9 9 6 年 至 少 有 两 个 关 于 这 个 主 题 的 大 型 报 告 被 ...      1            0  \n",
       "2779  美 国 的 食 品 及 药 物 管 理 局 已 经 发 表 了 异 种 器 官 移 植 的 ...      1            0  \n",
       "2780  移 植 外 科 医 生 创 造 奇 迹 。 他 们 从 一 个 人 的 体 内 取 出 器 ...      1            0  \n",
       "2781  令 人 悲 伤 的 是 ， 每 年 有 其 他 成 千 上 万 的 人 没 有 那 么 幸 ...      1            0  \n",
       "2782  在 器 官 移 植 方 面 糟 糕 的 是 ， 每 一 个 的 生 命 依 赖 于 某 一 ...      1            0  \n",
       "2783  那 样 的 赠 予 人 很 少 。 等 候 名 单 很 长 ， 而 且 变 得 越 来 越 长 。      1            0  \n",
       "2784      从 这 个 束 缚 中 摆 脱 出 来 是 每 个 移 植 外 科 医 生 的 梦 想 。      1            0  \n",
       "2785  至 今 制 造 人 造 器 官 的 尝 试 还 是 让 人 感 到 沮 丧 的 ， 自 然 ...      1            0  \n",
       "2786  印 度 的 医 生 刚 刚 宣 称 他 们 已 经 成 功 地 将 一 枚 猪 心 植 入 ...      1            0  \n",
       "2787      增 加 异 种 器 官 移 植 的 数 量 的 压 力 似 乎 变 得 越 来 越 大 。      1            0  \n",
       "2788  在 欧 美 ， 猪 被 特 殊 化 繁 殖 养 育 并 作 为 器 官 捐 赠 做 遗 传 ...      1            0  \n",
       "2789  1 9 9 6 年 其 间 ， 至 少 有 两 大 在 这 个 课 题 上 的 报 告 被 ...      1            0  \n",
       "2790  他 们 同 意 异 种 器 官 移 植 在 道 德 标 准 上 是 被 允 许 的 ， 而 ...      1            0  \n",
       "2791  美 国 食 品 药 物 局 已 经 推 出 了 关 于 异 种 器 官 移 植 的 起 草 ...      1            0  \n",
       "2792  人 们 杀 猪 为 了 食 物 和 运 动 ， 而 杀 它 们 为 了 救 人 似 乎 无 ...      1            0  \n",
       "2793  移 植 手 术 真 的 很 神 奇 。 移 植 就 是 把 一 个 人 的 器 官 移 植 ...      1            0  \n",
       "2794  不 幸 的 是 ， 每 年 都 上 千 的 病 人 没 有 这 么 幸 运 ， 还 没 有 ...      1            0  \n",
       "2795  而 且 器 官 移 植 的 一 个 大 的 障 碍 就 是 ： 每 一 个 生 命 的 延 ...      1            0  \n",
       "2796  这 样 的 器 官 捐 赠 者 很 少 ， 而 等 待 移 植 的 人 却 很 多 ， 而 ...      1            0  \n",
       "2797              摆 脱 这 种 束 缚 是 每 一 个 移 植 手 术 所 梦 想 的 。      1            0  \n",
       "2798  至 今 ， 制 造 人 工 器 官 的 试 图 失 败 了 ， 自 然 是 很 难 改 变 ...      0            0  \n",
       "\n",
       "[2799 rows x 5 columns]"
      ]
     },
     "execution_count": 48,
     "metadata": {},
     "output_type": "execute_result"
    }
   ],
   "source": [
    "df_results_csv"
   ]
  },
  {
   "cell_type": "code",
   "execution_count": 28,
   "metadata": {},
   "outputs": [
    {
     "data": {
      "text/plain": [
       "'0'"
      ]
     },
     "execution_count": 28,
     "metadata": {},
     "output_type": "execute_result"
    }
   ],
   "source": [
    "df_results_csv.iloc[2798,3]"
   ]
  },
  {
   "cell_type": "code",
   "execution_count": 38,
   "metadata": {},
   "outputs": [],
   "source": [
    "df_results_converted=df_results_csv.astype(dtype={\"seg_id\":\"object\", \"src_text\":\"object\", \"tgt_text\":\"object\", \"golden\":\"int64\", \"predictions\":\"int64\"})"
   ]
  },
  {
   "cell_type": "code",
   "execution_count": 30,
   "metadata": {
    "scrolled": true
   },
   "outputs": [
    {
     "data": {
      "text/plain": [
       "seg_id         object\n",
       "src_text       object\n",
       "tgt_text       object\n",
       "golden          int64\n",
       "predictions     int64\n",
       "dtype: object"
      ]
     },
     "execution_count": 30,
     "metadata": {},
     "output_type": "execute_result"
    }
   ],
   "source": [
    "df_results_converted.dtypes"
   ]
  },
  {
   "cell_type": "code",
   "execution_count": 39,
   "metadata": {},
   "outputs": [],
   "source": [
    "# writing into .csv\n",
    "df_results_converted.to_csv('data2/result.csv',sep=\"\\t\",index=False, quoting=3,header=True)"
   ]
  },
  {
   "cell_type": "code",
   "execution_count": 40,
   "metadata": {},
   "outputs": [],
   "source": [
    "perf= precision_recall_fscore_support(df_results_converted['golden'], df_results_converted['predictions'], average=None)"
   ]
  },
  {
   "cell_type": "code",
   "execution_count": 41,
   "metadata": {},
   "outputs": [
    {
     "data": {
      "text/plain": [
       "(array([0.10048176, 0.91010401]),\n",
       " array([0.54681648, 0.48380727]),\n",
       " array([0.16976744, 0.63176895]),\n",
       " array([ 267, 2532]))"
      ]
     },
     "execution_count": 41,
     "metadata": {},
     "output_type": "execute_result"
    }
   ],
   "source": [
    "perf"
   ]
  },
  {
   "cell_type": "code",
   "execution_count": null,
   "metadata": {},
   "outputs": [],
   "source": []
  },
  {
   "cell_type": "code",
   "execution_count": 42,
   "metadata": {},
   "outputs": [],
   "source": [
    "perf=pd.DataFrame({'precision':perf[0], 'recall':perf[1], 'f-score':perf[2],'support':perf[3]})"
   ]
  },
  {
   "cell_type": "code",
   "execution_count": 43,
   "metadata": {},
   "outputs": [
    {
     "data": {
      "text/html": [
       "<div>\n",
       "<style scoped>\n",
       "    .dataframe tbody tr th:only-of-type {\n",
       "        vertical-align: middle;\n",
       "    }\n",
       "\n",
       "    .dataframe tbody tr th {\n",
       "        vertical-align: top;\n",
       "    }\n",
       "\n",
       "    .dataframe thead th {\n",
       "        text-align: right;\n",
       "    }\n",
       "</style>\n",
       "<table border=\"1\" class=\"dataframe\">\n",
       "  <thead>\n",
       "    <tr style=\"text-align: right;\">\n",
       "      <th></th>\n",
       "      <th>precision</th>\n",
       "      <th>recall</th>\n",
       "      <th>f-score</th>\n",
       "      <th>support</th>\n",
       "    </tr>\n",
       "  </thead>\n",
       "  <tbody>\n",
       "    <tr>\n",
       "      <th>0</th>\n",
       "      <td>0.100482</td>\n",
       "      <td>0.546816</td>\n",
       "      <td>0.169767</td>\n",
       "      <td>267</td>\n",
       "    </tr>\n",
       "    <tr>\n",
       "      <th>1</th>\n",
       "      <td>0.910104</td>\n",
       "      <td>0.483807</td>\n",
       "      <td>0.631769</td>\n",
       "      <td>2532</td>\n",
       "    </tr>\n",
       "  </tbody>\n",
       "</table>\n",
       "</div>"
      ],
      "text/plain": [
       "   precision    recall   f-score  support\n",
       "0   0.100482  0.546816  0.169767      267\n",
       "1   0.910104  0.483807  0.631769     2532"
      ]
     },
     "execution_count": 43,
     "metadata": {},
     "output_type": "execute_result"
    }
   ],
   "source": [
    "perf"
   ]
  },
  {
   "cell_type": "code",
   "execution_count": 44,
   "metadata": {},
   "outputs": [],
   "source": [
    "perf.to_csv('./data/character-50.csv', sep='\\t',index=True, header=True)"
   ]
  },
  {
   "cell_type": "code",
   "execution_count": 235,
   "metadata": {},
   "outputs": [
    {
     "data": {
      "text/plain": [
       "array([0.21348315, 0.87796209])"
      ]
     },
     "execution_count": 235,
     "metadata": {},
     "output_type": "execute_result"
    }
   ],
   "source": []
  },
  {
   "cell_type": "code",
   "execution_count": 236,
   "metadata": {},
   "outputs": [
    {
     "data": {
      "text/plain": [
       "array([0.18009479, 0.89546828])"
      ]
     },
     "execution_count": 236,
     "metadata": {},
     "output_type": "execute_result"
    }
   ],
   "source": [
    "fscore"
   ]
  },
  {
   "cell_type": "code",
   "execution_count": 237,
   "metadata": {},
   "outputs": [
    {
     "data": {
      "text/plain": [
       "array([ 267, 2532])"
      ]
     },
     "execution_count": 237,
     "metadata": {},
     "output_type": "execute_result"
    }
   ],
   "source": [
    "support"
   ]
  },
  {
   "cell_type": "code",
   "execution_count": null,
   "metadata": {},
   "outputs": [],
   "source": []
  }
 ],
 "metadata": {
  "kernelspec": {
   "display_name": "Python 3",
   "language": "python",
   "name": "python3"
  },
  "language_info": {
   "codemirror_mode": {
    "name": "ipython",
    "version": 3
   },
   "file_extension": ".py",
   "mimetype": "text/x-python",
   "name": "python",
   "nbconvert_exporter": "python",
   "pygments_lexer": "ipython3",
   "version": "3.7.1"
  }
 },
 "nbformat": 4,
 "nbformat_minor": 2
}
