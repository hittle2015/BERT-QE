{
 "cells": [
  {
   "cell_type": "code",
   "execution_count": 2,
   "metadata": {},
   "outputs": [],
   "source": [
    "import pandas as pd\n",
    "from sklearn.preprocessing import LabelEncoder\n",
    "from sklearn.model_selection import train_test_split\n",
    "from pandas import DataFrame\n",
    "from sklearn.metrics import precision_recall_fscore_support\n"
   ]
  },
  {
   "cell_type": "code",
   "execution_count": 2,
   "metadata": {},
   "outputs": [
    {
     "name": "stderr",
     "output_type": "stream",
     "text": [
      "b'Skipping line 2147: expected 4 fields, saw 5\\nSkipping line 14310: expected 4 fields, saw 5\\nSkipping line 14410: expected 4 fields, saw 5\\n'\n"
     ]
    }
   ],
   "source": [
    "le = LabelEncoder()\n",
    " \n",
    "# df = pd.read_csv(\"./data/cwmt_comb.txt\", delimiter='\\t', error_bad_lines=False)"
   ]
  },
  {
   "cell_type": "code",
   "execution_count": 51,
   "metadata": {},
   "outputs": [
    {
     "data": {
      "text/plain": [
       "14749"
      ]
     },
     "execution_count": 51,
     "metadata": {},
     "output_type": "execute_result"
    }
   ],
   "source": [
    "len(df)"
   ]
  },
  {
   "cell_type": "code",
   "execution_count": 59,
   "metadata": {},
   "outputs": [],
   "source": [
    "## using this processor to preprocess the data for chinese word segmented data\n",
    "# with open('./data/cwmt_comb.txt') as infile:\n",
    "#     seg_id=[]\n",
    "#     src_tgt_txt=[]\n",
    "#     label=[]\n",
    "#     for idx, ln in enumerate(infile):\n",
    "#         if ln:\n",
    "#             try:\n",
    "#                 src, tgt, cls = ln.strip().split('\\t')[1], ln.strip().split('\\t')[2], ln.strip().split('\\t')[3]\n",
    "#                 src_tgt=' '.join((src.split() +[c for c in ''.join(tgt.split())]))\n",
    "#                 seg_id.append(\"cwmt_\"+str(idx))\n",
    "#                 src_tgt_txt.append(src_tgt)\n",
    "#                 label.append(cls)\n",
    "#             except IndexError as e:\n",
    "#                 print(idx, e)\n",
    "        "
   ]
  },
  {
   "cell_type": "code",
   "execution_count": 5,
   "metadata": {},
   "outputs": [],
   "source": [
    "\n",
    "# using this bit for character segmented chinese and two sentences side by side \n",
    "\"\"\"\n",
    "[CLS]to add to his woes , he only has one day to ea... [SEP] \\\n",
    "更 糟 糕 的 是 ， 他 只 有 一 天 的 时 间 来 争 取 菲 奥 娜 的 真[SEP]\n",
    "\"\"\"\n",
    "with open('./data/cwmt_comb.txt') as infile:\n",
    "    seg_id=[]\n",
    "    src_txt=[]\n",
    "    tgt_txt=[]\n",
    "    label=[]\n",
    "    for idx, ln in enumerate(infile):\n",
    "        if ln:\n",
    "            try:\n",
    "                src, tgt, cls = ln.strip().split('\\t')[1], ln.strip().split('\\t')[2], ln.strip().split('\\t')[3]\n",
    "                src_txt.append(src)\n",
    "                tgt_txt.append(' '.join([c for c in ''.join(tgt.split())]))\n",
    "                seg_id.append(\"cwmt_\"+str(idx))\n",
    "                label.append(cls)\n",
    "            except IndexError as e:\n",
    "                print(idx, e)\n",
    "        "
   ]
  },
  {
   "cell_type": "code",
   "execution_count": 40,
   "metadata": {},
   "outputs": [],
   "source": [
    "\n",
    "# #concatenate the  src and tgt as space-segmented (notices that the bert vocabulary are single characters and masked characters. Thought this might be better)\n",
    "# src_tgt_txts=[]\n",
    "# for src, tgt in zip(df['SRC_Txt'], df['TGT_Txt']):\n",
    "#     src_ws = [w for w in src.split()]\n",
    "#     tgt_chars =[c for c in ''.join(tgt.split())]\n",
    "#     src_tgt =' '.join((src_ws + tgt_chars))\n",
    "#     src_tgt_txts.append(src_tgt)"
   ]
  },
  {
   "cell_type": "code",
   "execution_count": 6,
   "metadata": {},
   "outputs": [
    {
     "data": {
      "text/plain": [
       "'the young man walked up to the old man , reached into his perfect heart , and ripped a piece out . he offered it to the old man .'"
      ]
     },
     "execution_count": 6,
     "metadata": {},
     "output_type": "execute_result"
    }
   ],
   "source": [
    "src_txt[0]"
   ]
  },
  {
   "cell_type": "code",
   "execution_count": 7,
   "metadata": {},
   "outputs": [
    {
     "data": {
      "text/plain": [
       "'年 轻 人 走 向 老 人 ， 伸 出 他 完 美 的 心 灵 并 撕 出 一 块 给 老 年 填 上 。'"
      ]
     },
     "execution_count": 7,
     "metadata": {},
     "output_type": "execute_result"
    }
   ],
   "source": [
    "tgt_txt[0]"
   ]
  },
  {
   "cell_type": "code",
   "execution_count": 8,
   "metadata": {},
   "outputs": [],
   "source": [
    "# Creating train and dev dataframes according to BERT\n",
    "df_bert = pd.DataFrame({'seg_id':seg_id,\n",
    "            'label':le.fit_transform(label),\n",
    "            'alpha':['a']*len(label),\n",
    "            'src_text':src_txt,\n",
    "            'tgt_text':tgt_txt})\n",
    " \n",
    "df_bert_train, df_bert_dev = train_test_split(df_bert, test_size=0.01, random_state=400)"
   ]
  },
  {
   "cell_type": "code",
   "execution_count": 9,
   "metadata": {},
   "outputs": [
    {
     "data": {
      "text/plain": [
       "seg_id                                                 cwmt_1\n",
       "label                                                       1\n",
       "alpha                                                       a\n",
       "src_text    to add to his woes , he only has one day to ea...\n",
       "tgt_text    更 糟 糕 的 是 ， 他 只 有 一 天 的 时 间 来 争 取 菲 奥 娜 的 真 爱 ...\n",
       "Name: 1, dtype: object"
      ]
     },
     "execution_count": 9,
     "metadata": {},
     "output_type": "execute_result"
    }
   ],
   "source": [
    "df_bert.loc[1,:]"
   ]
  },
  {
   "cell_type": "code",
   "execution_count": 66,
   "metadata": {},
   "outputs": [
    {
     "data": {
      "text/plain": [
       "(16955, 4)"
      ]
     },
     "execution_count": 66,
     "metadata": {},
     "output_type": "execute_result"
    }
   ],
   "source": [
    "df_bert_train.shape"
   ]
  },
  {
   "cell_type": "code",
   "execution_count": 81,
   "metadata": {},
   "outputs": [],
   "source": [
    "with open('./data/htqe_test_comb.txt') as infile:\n",
    "    test_seg_id=[]\n",
    "    test_src_tgt_txt=[]\n",
    "    test_label=[]\n",
    "    for idx, ln in enumerate(infile):\n",
    "        if ln:\n",
    "            try:\n",
    "                src, tgt, cls = ln.strip().split('\\t')[1], ln.strip().split('\\t')[2], ln.strip().split('\\t')[3]\n",
    "                src_tgt=' '.join((src.split() +[c for c in ''.join(tgt.split())]))\n",
    "                test_seg_id.append(\"htqe_\"+str(idx))\n",
    "                test_src_tgt_txt.append(src_tgt)\n",
    "                test_label.append(cls)\n",
    "            except IndexError as e:\n",
    "                print(idx, e)\n",
    "        "
   ]
  },
  {
   "cell_type": "code",
   "execution_count": 10,
   "metadata": {},
   "outputs": [],
   "source": [
    "with open('./data/htqe_test_comb.txt') as infile:\n",
    "    test_seg_id=[]\n",
    "    test_src_txt=[]\n",
    "    test_tgt_txt=[]\n",
    "    test_label=[]\n",
    "    for idx, ln in enumerate(infile):\n",
    "        if ln:\n",
    "            try:\n",
    "                src, tgt, cls = ln.strip().split('\\t')[1], ln.strip().split('\\t')[2], ln.strip().split('\\t')[3]\n",
    "                test_seg_id.append(\"htqe_\"+str(idx))\n",
    "                test_src_txt.append(src)\n",
    "                test_tgt_txt.append(' '.join([c for c in ''.join(tgt.split())]))\n",
    "                test_label.append(cls)\n",
    "            except IndexError as e:\n",
    "                print(idx, e)"
   ]
  },
  {
   "cell_type": "code",
   "execution_count": 45,
   "metadata": {},
   "outputs": [],
   "source": [
    "# # Creating test dataframe according to BERT\n",
    "# df_test = pd.read_csv(\"data/htqe_test_comb.txt\", sep='\\t', error_bad_lines=False)\n",
    "# src_tgt_tsts=[]\n",
    "# for src, tgt in zip(df_test['SRC_Txt'], df_test['TGT_Txt']):\n",
    "#     src_ws = [w for w in src.split()]\n",
    "#     tgt_chars =[c for c in ''.join(tgt.split())]\n",
    "#     src_tgt =' '.join((src_ws + tgt_chars))\n",
    "#     src_tgt_tsts.append(src_tgt)"
   ]
  },
  {
   "cell_type": "code",
   "execution_count": 11,
   "metadata": {},
   "outputs": [
    {
     "data": {
      "text/plain": [
       "'\" one cannot deny that insects are a nuisance when their bites become sore , and a threat when they transmit disease , but , viewed dispassionately , even noxious insects are beautiful . \"'"
      ]
     },
     "execution_count": 11,
     "metadata": {},
     "output_type": "execute_result"
    }
   ],
   "source": [
    "test_src_txt[1]"
   ]
  },
  {
   "cell_type": "code",
   "execution_count": 12,
   "metadata": {},
   "outputs": [
    {
     "data": {
      "text/plain": [
       "'没 有 人 可 以 否 认 昆 虫 是 一 个 令 人 讨 厌 的 家 伙 ， 因 为 她 咬 我 们 会 给 我 们 带 来 疼 痛 并 会 传 播 疾 病 。 但 是 ， 客 观 地 说 ， 其 实 有 毒 的 昆 虫 是 美 丽 的 。'"
      ]
     },
     "execution_count": 12,
     "metadata": {},
     "output_type": "execute_result"
    }
   ],
   "source": [
    "test_tgt_txt[1]"
   ]
  },
  {
   "cell_type": "code",
   "execution_count": 22,
   "metadata": {},
   "outputs": [
    {
     "data": {
      "text/plain": [
       "'1'"
      ]
     },
     "execution_count": 22,
     "metadata": {},
     "output_type": "execute_result"
    }
   ],
   "source": [
    "test_label[1]"
   ]
  },
  {
   "cell_type": "code",
   "execution_count": 14,
   "metadata": {},
   "outputs": [],
   "source": [
    "df_bert_test = pd.DataFrame({'seg_id':test_seg_id,\n",
    "                 'src_text':test_src_txt,\n",
    "                  'tgt_text':test_tgt_txt,\n",
    "                            'golden':test_label})\n",
    " "
   ]
  },
  {
   "cell_type": "code",
   "execution_count": 16,
   "metadata": {},
   "outputs": [],
   "source": [
    "# Saving dataframes to .tsv format as required by BERT\n",
    "df_bert_train.to_csv('data2/train.tsv', sep='\\t', index=False, quoting=3, header=False)\n",
    "df_bert_dev.to_csv('data2/dev.tsv', sep='\\t', index=False, quoting=3,header=False)\n",
    "df_bert_test.to_csv('data2/test.tsv', sep='\\t', index=False, quoting=3,header=True)"
   ]
  },
  {
   "cell_type": "code",
   "execution_count": 41,
   "metadata": {},
   "outputs": [
    {
     "ename": "NameError",
     "evalue": "name 'df_bert_test' is not defined",
     "output_type": "error",
     "traceback": [
      "\u001b[0;31m---------------------------------------------------------------------------\u001b[0m",
      "\u001b[0;31mNameError\u001b[0m                                 Traceback (most recent call last)",
      "\u001b[0;32m<ipython-input-41-92c9728dd13e>\u001b[0m in \u001b[0;36m<module>\u001b[0;34m\u001b[0m\n\u001b[1;32m      1\u001b[0m \u001b[0mdf_results\u001b[0m \u001b[0;34m=\u001b[0m \u001b[0mpd\u001b[0m\u001b[0;34m.\u001b[0m\u001b[0mread_csv\u001b[0m\u001b[0;34m(\u001b[0m\u001b[0;34m\"bert_output2/test_results.tsv\"\u001b[0m\u001b[0;34m,\u001b[0m\u001b[0msep\u001b[0m\u001b[0;34m=\u001b[0m\u001b[0;34m\"\\t\"\u001b[0m\u001b[0;34m,\u001b[0m\u001b[0mheader\u001b[0m\u001b[0;34m=\u001b[0m\u001b[0;32mNone\u001b[0m\u001b[0;34m)\u001b[0m\u001b[0;34m\u001b[0m\u001b[0;34m\u001b[0m\u001b[0m\n\u001b[0;32m----> 2\u001b[0;31m df_results_csv = pd.DataFrame({'seg_id':df_bert_test['seg_id'],\n\u001b[0m\u001b[1;32m      3\u001b[0m                                \u001b[0;34m'src_text'\u001b[0m\u001b[0;34m:\u001b[0m\u001b[0mdf_bert_test\u001b[0m\u001b[0;34m[\u001b[0m\u001b[0;34m'src_text'\u001b[0m\u001b[0;34m]\u001b[0m\u001b[0;34m,\u001b[0m\u001b[0;34m\u001b[0m\u001b[0;34m\u001b[0m\u001b[0m\n\u001b[1;32m      4\u001b[0m                                \u001b[0;34m'tgt_text'\u001b[0m\u001b[0;34m:\u001b[0m\u001b[0mdf_bert_test\u001b[0m\u001b[0;34m[\u001b[0m\u001b[0;34m'tgt_text'\u001b[0m\u001b[0;34m]\u001b[0m\u001b[0;34m,\u001b[0m\u001b[0;34m\u001b[0m\u001b[0;34m\u001b[0m\u001b[0m\n\u001b[1;32m      5\u001b[0m                                \u001b[0;34m'golden'\u001b[0m\u001b[0;34m:\u001b[0m\u001b[0mdf_bert_test\u001b[0m\u001b[0;34m[\u001b[0m\u001b[0;34m'golden'\u001b[0m\u001b[0;34m]\u001b[0m\u001b[0;34m,\u001b[0m\u001b[0;34m\u001b[0m\u001b[0;34m\u001b[0m\u001b[0m\n",
      "\u001b[0;31mNameError\u001b[0m: name 'df_bert_test' is not defined"
     ]
    }
   ],
   "source": [
    "df_results = pd.read_csv(\"bert_output2/test_results.tsv\",sep=\"\\t\",header=None)\n",
    "df_results_csv = pd.DataFrame({'seg_id':df_bert_test['seg_id'],\n",
    "                               'src_text':df_bert_test['src_text'],\n",
    "                               'tgt_text':df_bert_test['tgt_text'],\n",
    "                               'golden':df_bert_test['golden'],\n",
    "                               'predictions':df_results.idxmax(axis=1).apply(int),})\n"
   ]
  },
  {
   "cell_type": "code",
   "execution_count": 34,
   "metadata": {},
   "outputs": [],
   "source": [
    "df_results = pd.read_csv(\"bert_output2/test_results.tsv\",sep=\"\\t\",header=None)\n"
   ]
  },
  {
   "cell_type": "code",
   "execution_count": 35,
   "metadata": {},
   "outputs": [
    {
     "data": {
      "text/html": [
       "<div>\n",
       "<style scoped>\n",
       "    .dataframe tbody tr th:only-of-type {\n",
       "        vertical-align: middle;\n",
       "    }\n",
       "\n",
       "    .dataframe tbody tr th {\n",
       "        vertical-align: top;\n",
       "    }\n",
       "\n",
       "    .dataframe thead th {\n",
       "        text-align: right;\n",
       "    }\n",
       "</style>\n",
       "<table border=\"1\" class=\"dataframe\">\n",
       "  <thead>\n",
       "    <tr style=\"text-align: right;\">\n",
       "      <th></th>\n",
       "      <th>0</th>\n",
       "      <th>1</th>\n",
       "    </tr>\n",
       "  </thead>\n",
       "  <tbody>\n",
       "    <tr>\n",
       "      <th>0</th>\n",
       "      <td>0.327275</td>\n",
       "      <td>0.672725</td>\n",
       "    </tr>\n",
       "    <tr>\n",
       "      <th>1</th>\n",
       "      <td>0.338851</td>\n",
       "      <td>0.661149</td>\n",
       "    </tr>\n",
       "    <tr>\n",
       "      <th>2</th>\n",
       "      <td>0.352504</td>\n",
       "      <td>0.647496</td>\n",
       "    </tr>\n",
       "    <tr>\n",
       "      <th>3</th>\n",
       "      <td>0.341203</td>\n",
       "      <td>0.658797</td>\n",
       "    </tr>\n",
       "    <tr>\n",
       "      <th>4</th>\n",
       "      <td>0.992677</td>\n",
       "      <td>0.007323</td>\n",
       "    </tr>\n",
       "    <tr>\n",
       "      <th>5</th>\n",
       "      <td>0.338425</td>\n",
       "      <td>0.661575</td>\n",
       "    </tr>\n",
       "    <tr>\n",
       "      <th>6</th>\n",
       "      <td>0.332412</td>\n",
       "      <td>0.667588</td>\n",
       "    </tr>\n",
       "    <tr>\n",
       "      <th>7</th>\n",
       "      <td>0.335089</td>\n",
       "      <td>0.664911</td>\n",
       "    </tr>\n",
       "    <tr>\n",
       "      <th>8</th>\n",
       "      <td>0.336531</td>\n",
       "      <td>0.663469</td>\n",
       "    </tr>\n",
       "    <tr>\n",
       "      <th>9</th>\n",
       "      <td>0.331142</td>\n",
       "      <td>0.668858</td>\n",
       "    </tr>\n",
       "    <tr>\n",
       "      <th>10</th>\n",
       "      <td>0.339326</td>\n",
       "      <td>0.660674</td>\n",
       "    </tr>\n",
       "    <tr>\n",
       "      <th>11</th>\n",
       "      <td>0.332736</td>\n",
       "      <td>0.667264</td>\n",
       "    </tr>\n",
       "    <tr>\n",
       "      <th>12</th>\n",
       "      <td>0.332099</td>\n",
       "      <td>0.667901</td>\n",
       "    </tr>\n",
       "    <tr>\n",
       "      <th>13</th>\n",
       "      <td>0.334676</td>\n",
       "      <td>0.665324</td>\n",
       "    </tr>\n",
       "    <tr>\n",
       "      <th>14</th>\n",
       "      <td>0.332654</td>\n",
       "      <td>0.667346</td>\n",
       "    </tr>\n",
       "    <tr>\n",
       "      <th>15</th>\n",
       "      <td>0.366784</td>\n",
       "      <td>0.633216</td>\n",
       "    </tr>\n",
       "    <tr>\n",
       "      <th>16</th>\n",
       "      <td>0.361876</td>\n",
       "      <td>0.638124</td>\n",
       "    </tr>\n",
       "    <tr>\n",
       "      <th>17</th>\n",
       "      <td>0.335235</td>\n",
       "      <td>0.664766</td>\n",
       "    </tr>\n",
       "    <tr>\n",
       "      <th>18</th>\n",
       "      <td>0.331382</td>\n",
       "      <td>0.668618</td>\n",
       "    </tr>\n",
       "    <tr>\n",
       "      <th>19</th>\n",
       "      <td>0.336475</td>\n",
       "      <td>0.663525</td>\n",
       "    </tr>\n",
       "    <tr>\n",
       "      <th>20</th>\n",
       "      <td>0.340276</td>\n",
       "      <td>0.659723</td>\n",
       "    </tr>\n",
       "    <tr>\n",
       "      <th>21</th>\n",
       "      <td>0.336190</td>\n",
       "      <td>0.663810</td>\n",
       "    </tr>\n",
       "    <tr>\n",
       "      <th>22</th>\n",
       "      <td>0.371307</td>\n",
       "      <td>0.628693</td>\n",
       "    </tr>\n",
       "    <tr>\n",
       "      <th>23</th>\n",
       "      <td>0.355246</td>\n",
       "      <td>0.644754</td>\n",
       "    </tr>\n",
       "    <tr>\n",
       "      <th>24</th>\n",
       "      <td>0.353258</td>\n",
       "      <td>0.646742</td>\n",
       "    </tr>\n",
       "    <tr>\n",
       "      <th>25</th>\n",
       "      <td>0.400834</td>\n",
       "      <td>0.599166</td>\n",
       "    </tr>\n",
       "    <tr>\n",
       "      <th>26</th>\n",
       "      <td>0.339063</td>\n",
       "      <td>0.660937</td>\n",
       "    </tr>\n",
       "    <tr>\n",
       "      <th>27</th>\n",
       "      <td>0.331348</td>\n",
       "      <td>0.668652</td>\n",
       "    </tr>\n",
       "    <tr>\n",
       "      <th>28</th>\n",
       "      <td>0.347851</td>\n",
       "      <td>0.652149</td>\n",
       "    </tr>\n",
       "    <tr>\n",
       "      <th>29</th>\n",
       "      <td>0.354410</td>\n",
       "      <td>0.645590</td>\n",
       "    </tr>\n",
       "    <tr>\n",
       "      <th>...</th>\n",
       "      <td>...</td>\n",
       "      <td>...</td>\n",
       "    </tr>\n",
       "    <tr>\n",
       "      <th>2768</th>\n",
       "      <td>0.316860</td>\n",
       "      <td>0.683140</td>\n",
       "    </tr>\n",
       "    <tr>\n",
       "      <th>2769</th>\n",
       "      <td>0.344381</td>\n",
       "      <td>0.655619</td>\n",
       "    </tr>\n",
       "    <tr>\n",
       "      <th>2770</th>\n",
       "      <td>0.332748</td>\n",
       "      <td>0.667252</td>\n",
       "    </tr>\n",
       "    <tr>\n",
       "      <th>2771</th>\n",
       "      <td>0.324185</td>\n",
       "      <td>0.675815</td>\n",
       "    </tr>\n",
       "    <tr>\n",
       "      <th>2772</th>\n",
       "      <td>0.339184</td>\n",
       "      <td>0.660816</td>\n",
       "    </tr>\n",
       "    <tr>\n",
       "      <th>2773</th>\n",
       "      <td>0.342476</td>\n",
       "      <td>0.657524</td>\n",
       "    </tr>\n",
       "    <tr>\n",
       "      <th>2774</th>\n",
       "      <td>0.994894</td>\n",
       "      <td>0.005106</td>\n",
       "    </tr>\n",
       "    <tr>\n",
       "      <th>2775</th>\n",
       "      <td>0.984941</td>\n",
       "      <td>0.015059</td>\n",
       "    </tr>\n",
       "    <tr>\n",
       "      <th>2776</th>\n",
       "      <td>0.350746</td>\n",
       "      <td>0.649254</td>\n",
       "    </tr>\n",
       "    <tr>\n",
       "      <th>2777</th>\n",
       "      <td>0.327579</td>\n",
       "      <td>0.672421</td>\n",
       "    </tr>\n",
       "    <tr>\n",
       "      <th>2778</th>\n",
       "      <td>0.340325</td>\n",
       "      <td>0.659675</td>\n",
       "    </tr>\n",
       "    <tr>\n",
       "      <th>2779</th>\n",
       "      <td>0.332701</td>\n",
       "      <td>0.667299</td>\n",
       "    </tr>\n",
       "    <tr>\n",
       "      <th>2780</th>\n",
       "      <td>0.323968</td>\n",
       "      <td>0.676033</td>\n",
       "    </tr>\n",
       "    <tr>\n",
       "      <th>2781</th>\n",
       "      <td>0.354269</td>\n",
       "      <td>0.645731</td>\n",
       "    </tr>\n",
       "    <tr>\n",
       "      <th>2782</th>\n",
       "      <td>0.326658</td>\n",
       "      <td>0.673342</td>\n",
       "    </tr>\n",
       "    <tr>\n",
       "      <th>2783</th>\n",
       "      <td>0.335486</td>\n",
       "      <td>0.664514</td>\n",
       "    </tr>\n",
       "    <tr>\n",
       "      <th>2784</th>\n",
       "      <td>0.347845</td>\n",
       "      <td>0.652155</td>\n",
       "    </tr>\n",
       "    <tr>\n",
       "      <th>2785</th>\n",
       "      <td>0.337960</td>\n",
       "      <td>0.662040</td>\n",
       "    </tr>\n",
       "    <tr>\n",
       "      <th>2786</th>\n",
       "      <td>0.348376</td>\n",
       "      <td>0.651624</td>\n",
       "    </tr>\n",
       "    <tr>\n",
       "      <th>2787</th>\n",
       "      <td>0.337371</td>\n",
       "      <td>0.662629</td>\n",
       "    </tr>\n",
       "    <tr>\n",
       "      <th>2788</th>\n",
       "      <td>0.321607</td>\n",
       "      <td>0.678393</td>\n",
       "    </tr>\n",
       "    <tr>\n",
       "      <th>2789</th>\n",
       "      <td>0.354134</td>\n",
       "      <td>0.645866</td>\n",
       "    </tr>\n",
       "    <tr>\n",
       "      <th>2790</th>\n",
       "      <td>0.387209</td>\n",
       "      <td>0.612791</td>\n",
       "    </tr>\n",
       "    <tr>\n",
       "      <th>2791</th>\n",
       "      <td>0.343501</td>\n",
       "      <td>0.656499</td>\n",
       "    </tr>\n",
       "    <tr>\n",
       "      <th>2792</th>\n",
       "      <td>0.346838</td>\n",
       "      <td>0.653162</td>\n",
       "    </tr>\n",
       "    <tr>\n",
       "      <th>2793</th>\n",
       "      <td>0.338448</td>\n",
       "      <td>0.661552</td>\n",
       "    </tr>\n",
       "    <tr>\n",
       "      <th>2794</th>\n",
       "      <td>0.342850</td>\n",
       "      <td>0.657150</td>\n",
       "    </tr>\n",
       "    <tr>\n",
       "      <th>2795</th>\n",
       "      <td>0.336237</td>\n",
       "      <td>0.663763</td>\n",
       "    </tr>\n",
       "    <tr>\n",
       "      <th>2796</th>\n",
       "      <td>0.323585</td>\n",
       "      <td>0.676415</td>\n",
       "    </tr>\n",
       "    <tr>\n",
       "      <th>2797</th>\n",
       "      <td>0.324406</td>\n",
       "      <td>0.675594</td>\n",
       "    </tr>\n",
       "  </tbody>\n",
       "</table>\n",
       "<p>2798 rows × 2 columns</p>\n",
       "</div>"
      ],
      "text/plain": [
       "             0         1\n",
       "0     0.327275  0.672725\n",
       "1     0.338851  0.661149\n",
       "2     0.352504  0.647496\n",
       "3     0.341203  0.658797\n",
       "4     0.992677  0.007323\n",
       "5     0.338425  0.661575\n",
       "6     0.332412  0.667588\n",
       "7     0.335089  0.664911\n",
       "8     0.336531  0.663469\n",
       "9     0.331142  0.668858\n",
       "10    0.339326  0.660674\n",
       "11    0.332736  0.667264\n",
       "12    0.332099  0.667901\n",
       "13    0.334676  0.665324\n",
       "14    0.332654  0.667346\n",
       "15    0.366784  0.633216\n",
       "16    0.361876  0.638124\n",
       "17    0.335235  0.664766\n",
       "18    0.331382  0.668618\n",
       "19    0.336475  0.663525\n",
       "20    0.340276  0.659723\n",
       "21    0.336190  0.663810\n",
       "22    0.371307  0.628693\n",
       "23    0.355246  0.644754\n",
       "24    0.353258  0.646742\n",
       "25    0.400834  0.599166\n",
       "26    0.339063  0.660937\n",
       "27    0.331348  0.668652\n",
       "28    0.347851  0.652149\n",
       "29    0.354410  0.645590\n",
       "...        ...       ...\n",
       "2768  0.316860  0.683140\n",
       "2769  0.344381  0.655619\n",
       "2770  0.332748  0.667252\n",
       "2771  0.324185  0.675815\n",
       "2772  0.339184  0.660816\n",
       "2773  0.342476  0.657524\n",
       "2774  0.994894  0.005106\n",
       "2775  0.984941  0.015059\n",
       "2776  0.350746  0.649254\n",
       "2777  0.327579  0.672421\n",
       "2778  0.340325  0.659675\n",
       "2779  0.332701  0.667299\n",
       "2780  0.323968  0.676033\n",
       "2781  0.354269  0.645731\n",
       "2782  0.326658  0.673342\n",
       "2783  0.335486  0.664514\n",
       "2784  0.347845  0.652155\n",
       "2785  0.337960  0.662040\n",
       "2786  0.348376  0.651624\n",
       "2787  0.337371  0.662629\n",
       "2788  0.321607  0.678393\n",
       "2789  0.354134  0.645866\n",
       "2790  0.387209  0.612791\n",
       "2791  0.343501  0.656499\n",
       "2792  0.346838  0.653162\n",
       "2793  0.338448  0.661552\n",
       "2794  0.342850  0.657150\n",
       "2795  0.336237  0.663763\n",
       "2796  0.323585  0.676415\n",
       "2797  0.324406  0.675594\n",
       "\n",
       "[2798 rows x 2 columns]"
      ]
     },
     "execution_count": 35,
     "metadata": {},
     "output_type": "execute_result"
    }
   ],
   "source": [
    "df_results"
   ]
  },
  {
   "cell_type": "code",
   "execution_count": null,
   "metadata": {},
   "outputs": [],
   "source": []
  },
  {
   "cell_type": "code",
   "execution_count": 25,
   "metadata": {},
   "outputs": [],
   "source": [
    "df_results_test =  pd.read_csv(\"data2/test.tsv\",sep=\"\\t\", skiprows=([0,1]), header=None)"
   ]
  },
  {
   "cell_type": "code",
   "execution_count": null,
   "metadata": {},
   "outputs": [],
   "source": []
  },
  {
   "cell_type": "code",
   "execution_count": 27,
   "metadata": {},
   "outputs": [
    {
     "data": {
      "text/plain": [
       "0       1\n",
       "1       1\n",
       "2       1\n",
       "3       1\n",
       "4       1\n",
       "5       1\n",
       "6       0\n",
       "7       1\n",
       "8       1\n",
       "9       1\n",
       "10      1\n",
       "11      1\n",
       "12      1\n",
       "13      1\n",
       "14      1\n",
       "15      1\n",
       "16      1\n",
       "17      1\n",
       "18      1\n",
       "19      1\n",
       "20      1\n",
       "21      1\n",
       "22      1\n",
       "23      1\n",
       "24      1\n",
       "25      1\n",
       "26      1\n",
       "27      1\n",
       "28      0\n",
       "29      1\n",
       "       ..\n",
       "2768    1\n",
       "2769    1\n",
       "2770    1\n",
       "2771    1\n",
       "2772    1\n",
       "2773    1\n",
       "2774    1\n",
       "2775    1\n",
       "2776    1\n",
       "2777    1\n",
       "2778    1\n",
       "2779    1\n",
       "2780    1\n",
       "2781    1\n",
       "2782    1\n",
       "2783    1\n",
       "2784    1\n",
       "2785    1\n",
       "2786    1\n",
       "2787    1\n",
       "2788    1\n",
       "2789    1\n",
       "2790    1\n",
       "2791    1\n",
       "2792    1\n",
       "2793    1\n",
       "2794    1\n",
       "2795    1\n",
       "2796    1\n",
       "2797    0\n",
       "Name: 3, Length: 2798, dtype: int64"
      ]
     },
     "execution_count": 27,
     "metadata": {},
     "output_type": "execute_result"
    }
   ],
   "source": [
    "df_results_test[3]"
   ]
  },
  {
   "cell_type": "code",
   "execution_count": null,
   "metadata": {},
   "outputs": [],
   "source": []
  },
  {
   "cell_type": "code",
   "execution_count": null,
   "metadata": {},
   "outputs": [],
   "source": []
  },
  {
   "cell_type": "code",
   "execution_count": null,
   "metadata": {},
   "outputs": [],
   "source": []
  },
  {
   "cell_type": "code",
   "execution_count": null,
   "metadata": {},
   "outputs": [],
   "source": []
  },
  {
   "cell_type": "code",
   "execution_count": 28,
   "metadata": {},
   "outputs": [
    {
     "data": {
      "text/plain": [
       "'0'"
      ]
     },
     "execution_count": 28,
     "metadata": {},
     "output_type": "execute_result"
    }
   ],
   "source": [
    "df_results_csv.iloc[2798,3]"
   ]
  },
  {
   "cell_type": "code",
   "execution_count": 38,
   "metadata": {},
   "outputs": [],
   "source": [
    "df_results_converted=df_results_csv.astype(dtype={\"seg_id\":\"object\", \"src_text\":\"object\", \"tgt_text\":\"object\", \"golden\":\"int64\", \"predictions\":\"int64\"})"
   ]
  },
  {
   "cell_type": "code",
   "execution_count": 30,
   "metadata": {
    "scrolled": true
   },
   "outputs": [
    {
     "data": {
      "text/plain": [
       "seg_id         object\n",
       "src_text       object\n",
       "tgt_text       object\n",
       "golden          int64\n",
       "predictions     int64\n",
       "dtype: object"
      ]
     },
     "execution_count": 30,
     "metadata": {},
     "output_type": "execute_result"
    }
   ],
   "source": [
    "df_results_converted.dtypes"
   ]
  },
  {
   "cell_type": "code",
   "execution_count": 39,
   "metadata": {},
   "outputs": [],
   "source": [
    "# writing into .csv\n",
    "df_results_converted.to_csv('data2/result.csv',sep=\"\\t\",index=False, quoting=3,header=True)"
   ]
  },
  {
   "cell_type": "code",
   "execution_count": 49,
   "metadata": {},
   "outputs": [],
   "source": [
    "perf= precision_recall_fscore_support(df_results_test[3], df_results.idxmax(axis=1).apply(int), average=None)"
   ]
  },
  {
   "cell_type": "code",
   "execution_count": 50,
   "metadata": {},
   "outputs": [
    {
     "data": {
      "text/plain": [
       "(array([0.08707124, 0.90326581]),\n",
       " array([0.12359551, 0.86329514]),\n",
       " array([0.10216718, 0.88282828]),\n",
       " array([ 267, 2531]))"
      ]
     },
     "execution_count": 50,
     "metadata": {},
     "output_type": "execute_result"
    }
   ],
   "source": [
    "perf"
   ]
  },
  {
   "cell_type": "code",
   "execution_count": null,
   "metadata": {},
   "outputs": [],
   "source": []
  },
  {
   "cell_type": "code",
   "execution_count": 51,
   "metadata": {},
   "outputs": [],
   "source": [
    "perf=pd.DataFrame({'precision':perf[0], 'recall':perf[1], 'f-score':perf[2],'support':perf[3]})"
   ]
  },
  {
   "cell_type": "code",
   "execution_count": 52,
   "metadata": {},
   "outputs": [
    {
     "data": {
      "text/html": [
       "<div>\n",
       "<style scoped>\n",
       "    .dataframe tbody tr th:only-of-type {\n",
       "        vertical-align: middle;\n",
       "    }\n",
       "\n",
       "    .dataframe tbody tr th {\n",
       "        vertical-align: top;\n",
       "    }\n",
       "\n",
       "    .dataframe thead th {\n",
       "        text-align: right;\n",
       "    }\n",
       "</style>\n",
       "<table border=\"1\" class=\"dataframe\">\n",
       "  <thead>\n",
       "    <tr style=\"text-align: right;\">\n",
       "      <th></th>\n",
       "      <th>precision</th>\n",
       "      <th>recall</th>\n",
       "      <th>f-score</th>\n",
       "      <th>support</th>\n",
       "    </tr>\n",
       "  </thead>\n",
       "  <tbody>\n",
       "    <tr>\n",
       "      <th>0</th>\n",
       "      <td>0.087071</td>\n",
       "      <td>0.123596</td>\n",
       "      <td>0.102167</td>\n",
       "      <td>267</td>\n",
       "    </tr>\n",
       "    <tr>\n",
       "      <th>1</th>\n",
       "      <td>0.903266</td>\n",
       "      <td>0.863295</td>\n",
       "      <td>0.882828</td>\n",
       "      <td>2531</td>\n",
       "    </tr>\n",
       "  </tbody>\n",
       "</table>\n",
       "</div>"
      ],
      "text/plain": [
       "   precision    recall   f-score  support\n",
       "0   0.087071  0.123596  0.102167      267\n",
       "1   0.903266  0.863295  0.882828     2531"
      ]
     },
     "execution_count": 52,
     "metadata": {},
     "output_type": "execute_result"
    }
   ],
   "source": [
    "perf"
   ]
  },
  {
   "cell_type": "code",
   "execution_count": 40,
   "metadata": {},
   "outputs": [],
   "source": [
    "perf.to_csv('./data/character-bi-sent-80-6-fc.csv', sep='\\t',index=True, header=True)"
   ]
  },
  {
   "cell_type": "code",
   "execution_count": 235,
   "metadata": {},
   "outputs": [
    {
     "data": {
      "text/plain": [
       "array([0.21348315, 0.87796209])"
      ]
     },
     "execution_count": 235,
     "metadata": {},
     "output_type": "execute_result"
    }
   ],
   "source": []
  },
  {
   "cell_type": "code",
   "execution_count": 236,
   "metadata": {},
   "outputs": [
    {
     "data": {
      "text/plain": [
       "array([0.18009479, 0.89546828])"
      ]
     },
     "execution_count": 236,
     "metadata": {},
     "output_type": "execute_result"
    }
   ],
   "source": [
    "fscore"
   ]
  },
  {
   "cell_type": "code",
   "execution_count": 237,
   "metadata": {},
   "outputs": [
    {
     "data": {
      "text/plain": [
       "array([ 267, 2532])"
      ]
     },
     "execution_count": 237,
     "metadata": {},
     "output_type": "execute_result"
    }
   ],
   "source": [
    "support"
   ]
  },
  {
   "cell_type": "code",
   "execution_count": null,
   "metadata": {},
   "outputs": [],
   "source": []
  }
 ],
 "metadata": {
  "kernelspec": {
   "display_name": "Python 3",
   "language": "python",
   "name": "python3"
  },
  "language_info": {
   "codemirror_mode": {
    "name": "ipython",
    "version": 3
   },
   "file_extension": ".py",
   "mimetype": "text/x-python",
   "name": "python",
   "nbconvert_exporter": "python",
   "pygments_lexer": "ipython3",
   "version": "3.7.1"
  }
 },
 "nbformat": 4,
 "nbformat_minor": 2
}
